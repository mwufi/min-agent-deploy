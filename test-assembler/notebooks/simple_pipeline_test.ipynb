{
 "cells": [
  {
   "cell_type": "markdown",
   "metadata": {},
   "source": [
    "# Simple Pipeline Test\n",
    "\n",
    "Starting simple - just load markdown files and extract entities!"
   ]
  },
  {
   "cell_type": "code",
   "execution_count": 9,
   "metadata": {},
   "outputs": [
    {
     "name": "stdout",
     "output_type": "stream",
     "text": [
      "The autoreload extension is already loaded. To reload it, use:\n",
      "  %reload_ext autoreload\n"
     ]
    }
   ],
   "source": [
    "%load_ext autoreload\n",
    "%autoreload 2"
   ]
  },
  {
   "cell_type": "code",
   "execution_count": 10,
   "metadata": {},
   "outputs": [],
   "source": [
    "# First, let's create some test markdown files\n",
    "import os\n",
    "from pathlib import Path\n",
    "\n",
    "# Create test directories\n",
    "test_dir = Path(\"../test_data\")\n",
    "test_dir.mkdir(exist_ok=True)\n",
    "(test_dir / \"personal-notes\").mkdir(exist_ok=True)\n",
    "(test_dir / \"work\").mkdir(exist_ok=True)"
   ]
  },
  {
   "cell_type": "code",
   "execution_count": 11,
   "metadata": {},
   "outputs": [
    {
     "name": "stdout",
     "output_type": "stream",
     "text": [
      "Created: personal-notes/meeting1.md\n",
      "Created: personal-notes/ideas.md\n",
      "Created: work/project_notes.md\n"
     ]
    }
   ],
   "source": [
    "# Create some test markdown files\n",
    "test_files = [\n",
    "    (\"personal-notes/meeting1.md\", \n",
    "     \"\"\"# Meeting with Jennifer Smith\\n\\nDiscussed the Odyssey Project progress. Jennifer mentioned that Microsoft Corp is interested in our approach.\\n\\nNext steps:\\n- Follow up with Bob Johnson\\n- Review Sierra Initiative requirements\"\"\"),\n",
    "    \n",
    "    (\"personal-notes/ideas.md\",\n",
    "     \"\"\"# Random Ideas\\n\\nThinking about sustainable architecture. The Green Building Project could be revolutionary.\\n\\nNeed to contact Sarah Lee about the Tokyo Design Initiative.\"\"\"),\n",
    "     \n",
    "    (\"work/project_notes.md\",\n",
    "     \"\"\"# Odyssey Project Update\\n\\nWorking with Jennifer Smith and Bob Johnson on the next phase. \\n\\nGoogle Inc has shown interest in partnering.\"\"\"),\n",
    "]\n",
    "\n",
    "for filename, content in test_files:\n",
    "    file_path = test_dir / filename\n",
    "    file_path.write_text(content)\n",
    "    print(f\"Created: {filename}\")"
   ]
  },
  {
   "cell_type": "code",
   "execution_count": 12,
   "metadata": {},
   "outputs": [],
   "source": [
    "# Now let's test our pipeline!\n",
    "from ara.markdown_directory import MarkdownDirectory\n",
    "from ara.agents import extract_entities, count_entities_summary"
   ]
  },
  {
   "cell_type": "code",
   "execution_count": 13,
   "metadata": {},
   "outputs": [
    {
     "name": "stdout",
     "output_type": "stream",
     "text": [
      "Loaded 3 markdown files\n",
      "\n",
      "Files loaded:\n",
      "  - personal-notes/ideas.md\n",
      "  - personal-notes/meeting1.md\n",
      "  - work/project_notes.md\n"
     ]
    }
   ],
   "source": [
    "# Load markdown files from specific paths\n",
    "md_dir = MarkdownDirectory(\n",
    "    base_path=\"../test_data\",\n",
    "    paths=[\"personal-notes\", \"work\"]\n",
    ")\n",
    "\n",
    "# Load the files\n",
    "md_dir.load()\n",
    "\n",
    "print(f\"\\nFiles loaded:\")\n",
    "for file in md_dir:\n",
    "    print(f\"  - {file.path.relative_to(md_dir.base_path)}\")"
   ]
  },
  {
   "cell_type": "code",
   "execution_count": 14,
   "metadata": {},
   "outputs": [
    {
     "name": "stdout",
     "output_type": "stream",
     "text": [
      "\n",
      "ideas.md:\n",
      "  people: ['Sarah Lee']\n",
      "  projects: ['The Green Building Project', 'Tokyo Design Initiative']\n",
      "  other: ['Random Ideas\\n\\nThinking', 'Need']\n",
      "\n",
      "meeting1.md:\n",
      "  people: ['Bob Johnson']\n",
      "  projects: ['Odyssey Project', 'Review Sierra Initiative']\n",
      "  companies: ['Microsoft Corp']\n",
      "  other: ['Meeting', 'Follow', 'Next', 'Jennifer', 'Jennifer Smith\\n\\nDiscussed']\n",
      "\n",
      "project_notes.md:\n",
      "  people: ['Jennifer Smith', 'Bob Johnson']\n",
      "  projects: ['Odyssey Project Update\\n\\nWorking']\n",
      "  companies: ['Google Inc']\n"
     ]
    }
   ],
   "source": [
    "# Apply entity extraction to each file\n",
    "md_dir.apply(extract_entities)\n",
    "\n",
    "# Let's see what entities were extracted from each file\n",
    "for i, file in enumerate(md_dir):\n",
    "    entities = file.metadata.get('extract_entities', {})\n",
    "    print(f\"\\n{file.path.name}:\")\n",
    "    for category, items in entities.items():\n",
    "        if items:\n",
    "            print(f\"  {category}: {items}\")"
   ]
  },
  {
   "cell_type": "code",
   "execution_count": 15,
   "metadata": {},
   "outputs": [
    {
     "name": "stdout",
     "output_type": "stream",
     "text": [
      "\n",
      "=== SUMMARY ===\n",
      "Total files processed: 3\n",
      "\n",
      "Entity counts:\n",
      "  people: 3\n",
      "  projects: 5\n",
      "  companies: 2\n",
      "  other: 7\n",
      "\n",
      "Top entities per category:\n",
      "  people: Sarah Lee, Jennifer Smith, Bob Johnson\n",
      "  projects: The Green Building Project, Review Sierra Initiative, Odyssey Project, Odyssey Project Update\n",
      "\n",
      "Working, Tokyo Design Initiative\n",
      "  companies: Google Inc, Microsoft Corp\n",
      "  other: Random Ideas\n",
      "\n",
      "Thinking, Meeting, Need, Next, Follow\n"
     ]
    }
   ],
   "source": [
    "# Run the synthesis step to aggregate all entities\n",
    "summary = md_dir.synthesize(count_entities_summary)\n",
    "\n",
    "print(\"\\n=== SUMMARY ===\")\n",
    "print(f\"Total files processed: {summary['total_files']}\")\n",
    "print(f\"\\nEntity counts:\")\n",
    "for category, count in summary['entity_counts'].items():\n",
    "    print(f\"  {category}: {count}\")\n",
    "    \n",
    "print(f\"\\nTop entities per category:\")\n",
    "for category, entities in summary['top_entities'].items():\n",
    "    if entities:\n",
    "        print(f\"  {category}: {', '.join(entities)}\")"
   ]
  },
  {
   "cell_type": "markdown",
   "metadata": {},
   "source": [
    "## Next Steps\n",
    "\n",
    "This is super simple! The real MVP would:\n",
    "1. Use actual LLMs for entity extraction (not regex)\n",
    "2. Add more agent types (goals, preferences, etc)\n",
    "3. Build a proper knowledge graph\n",
    "4. Add the \"Biographer\" synthesis step\n",
    "\n",
    "But this shows the basic pipeline structure working!"
   ]
  }
 ],
 "metadata": {
  "kernelspec": {
   "display_name": "Python 3 (ipykernel)",
   "language": "python",
   "name": "python3"
  },
  "language_info": {
   "codemirror_mode": {
    "name": "ipython",
    "version": 3
   },
   "file_extension": ".py",
   "mimetype": "text/x-python",
   "name": "python",
   "nbconvert_exporter": "python",
   "pygments_lexer": "ipython3",
   "version": "3.12.7"
  }
 },
 "nbformat": 4,
 "nbformat_minor": 4
}
