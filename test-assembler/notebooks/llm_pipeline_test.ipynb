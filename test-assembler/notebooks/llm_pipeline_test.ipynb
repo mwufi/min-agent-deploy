{
 "cells": [
  {
   "cell_type": "markdown",
   "metadata": {},
   "source": [
    "# LLM-based Pipeline Test\n",
    "\n",
    "Now using real LLMs for entity extraction and goal detection!"
   ]
  },
  {
   "cell_type": "code",
   "execution_count": 1,
   "metadata": {},
   "outputs": [],
   "source": [
    "%load_ext autoreload\n",
    "%autoreload 2"
   ]
  },
  {
   "cell_type": "code",
   "execution_count": 3,
   "metadata": {},
   "outputs": [
    {
     "name": "stdout",
     "output_type": "stream",
     "text": [
      "\u001b[2K\u001b[2mResolved \u001b[1m123 packages\u001b[0m \u001b[2min 273ms\u001b[0m\u001b[0m                                       \u001b[0m\n",
      "\u001b[2K\u001b[37m⠙\u001b[0m \u001b[2manyio==4.9.0                                                                  \u001b[0m\u001b[2mUninstalled \u001b[1m1 package\u001b[0m \u001b[2min 0.66ms\u001b[0m\u001b[0m\n",
      "\u001b[2K\u001b[2mInstalled \u001b[1m22 packages\u001b[0m \u001b[2min 46ms\u001b[0m\u001b[0m                               \u001b[0m\n",
      " \u001b[32m+\u001b[39m \u001b[1mannotated-types\u001b[0m\u001b[2m==0.7.0\u001b[0m\n",
      " \u001b[33m~\u001b[39m \u001b[1mara\u001b[0m\u001b[2m==0.1.0 (from file:///Users/zenzen/theme-ara/minimal-agent/test-assembler/packages/ara)\u001b[0m\n",
      " \u001b[32m+\u001b[39m \u001b[1mclick\u001b[0m\u001b[2m==8.2.1\u001b[0m\n",
      " \u001b[32m+\u001b[39m \u001b[1mcolorama\u001b[0m\u001b[2m==0.4.6\u001b[0m\n",
      " \u001b[32m+\u001b[39m \u001b[1mdistro\u001b[0m\u001b[2m==1.9.0\u001b[0m\n",
      " \u001b[32m+\u001b[39m \u001b[1mgriffe\u001b[0m\u001b[2m==1.7.3\u001b[0m\n",
      " \u001b[32m+\u001b[39m \u001b[1mhttpx-sse\u001b[0m\u001b[2m==0.4.1\u001b[0m\n",
      " \u001b[32m+\u001b[39m \u001b[1mjiter\u001b[0m\u001b[2m==0.10.0\u001b[0m\n",
      " \u001b[32m+\u001b[39m \u001b[1mmcp\u001b[0m\u001b[2m==1.11.0\u001b[0m\n",
      " \u001b[32m+\u001b[39m \u001b[1mopenai\u001b[0m\u001b[2m==1.94.0\u001b[0m\n",
      " \u001b[32m+\u001b[39m \u001b[1mopenai-agents\u001b[0m\u001b[2m==0.1.0\u001b[0m\n",
      " \u001b[32m+\u001b[39m \u001b[1mpydantic\u001b[0m\u001b[2m==2.11.7\u001b[0m\n",
      " \u001b[32m+\u001b[39m \u001b[1mpydantic-core\u001b[0m\u001b[2m==2.33.2\u001b[0m\n",
      " \u001b[32m+\u001b[39m \u001b[1mpydantic-settings\u001b[0m\u001b[2m==2.10.1\u001b[0m\n",
      " \u001b[32m+\u001b[39m \u001b[1mpython-dotenv\u001b[0m\u001b[2m==1.1.1\u001b[0m\n",
      " \u001b[32m+\u001b[39m \u001b[1mpython-multipart\u001b[0m\u001b[2m==0.0.20\u001b[0m\n",
      " \u001b[32m+\u001b[39m \u001b[1msse-starlette\u001b[0m\u001b[2m==2.4.1\u001b[0m\n",
      " \u001b[32m+\u001b[39m \u001b[1mstarlette\u001b[0m\u001b[2m==0.47.1\u001b[0m\n",
      " \u001b[32m+\u001b[39m \u001b[1mtqdm\u001b[0m\u001b[2m==4.67.1\u001b[0m\n",
      " \u001b[32m+\u001b[39m \u001b[1mtypes-requests\u001b[0m\u001b[2m==2.32.4.20250611\u001b[0m\n",
      " \u001b[32m+\u001b[39m \u001b[1mtyping-inspection\u001b[0m\u001b[2m==0.4.1\u001b[0m\n",
      " \u001b[32m+\u001b[39m \u001b[1muvicorn\u001b[0m\u001b[2m==0.35.0\u001b[0m\n"
     ]
    }
   ],
   "source": [
    "!uv add python-dotenv"
   ]
  },
  {
   "cell_type": "code",
   "execution_count": 8,
   "metadata": {},
   "outputs": [
    {
     "data": {
      "text/plain": [
       "True"
      ]
     },
     "execution_count": 8,
     "metadata": {},
     "output_type": "execute_result"
    }
   ],
   "source": [
    "# Set up OpenAI API key\n",
    "import os\n",
    "from pathlib import Path\n",
    "\n",
    "# Or load from .env file\n",
    "from dotenv import load_dotenv\n",
    "load_dotenv()"
   ]
  },
  {
   "cell_type": "code",
   "execution_count": 33,
   "metadata": {},
   "outputs": [],
   "source": [
    "# Import our LLM-based agents\n",
    "from ara.markdown_directory import MarkdownDirectory\n",
    "from ara.agents import (\n",
    "    extract_entities_llm,\n",
    "    detect_goals_llm,\n",
    "    create_biographer_summary\n",
    ")"
   ]
  },
  {
   "cell_type": "code",
   "execution_count": 34,
   "metadata": {},
   "outputs": [
    {
     "name": "stdout",
     "output_type": "stream",
     "text": [
      "Loaded 3 markdown files\n",
      "Loaded 3 files\n"
     ]
    }
   ],
   "source": [
    "# Load the test markdown files we created earlier\n",
    "md_dir = MarkdownDirectory(\n",
    "    base_path=\"../test_data\",\n",
    "    paths=[\"personal-notes\", \"work\"]\n",
    ")\n",
    "\n",
    "md_dir.load()\n",
    "print(f\"Loaded {len(md_dir)} files\")"
   ]
  },
  {
   "cell_type": "code",
   "execution_count": 37,
   "metadata": {},
   "outputs": [
    {
     "name": "stdout",
     "output_type": "stream",
     "text": [
      "Extracting entities with LLM...\n",
      "\n",
      "ideas.md:\n",
      "```json\n",
      "{\n",
      "  \"people\": [\"Sarah Lee\"],\n",
      "  \"companies\": [],\n",
      "  \"projects\": [\"Green Building Project\", \"Tokyo Design Initiative\"],\n",
      "  \"locations\": [\"Tokyo\"],\n",
      "  \"technologies\": [],\n",
      "  \"other\": []\n",
      "}\n",
      "```\n",
      "\n",
      "meeting1.md:\n",
      "```json\n",
      "{\n",
      "  \"people\": [\"Jennifer Smith\", \"Bob Johnson\"],\n",
      "  \"companies\": [\"Microsoft Corp\"],\n",
      "  \"projects\": [\"Odyssey Project\", \"Sierra Initiative\"],\n",
      "  \"locations\": [],\n",
      "  \"technologies\": [],\n",
      "  \"other\": []\n",
      "}\n",
      "```\n",
      "\n",
      "project_notes.md:\n",
      "```json\n",
      "{\n",
      "  \"people\": [\"Jennifer Smith\", \"Bob Johnson\"],\n",
      "  \"companies\": [\"Google Inc\"],\n",
      "  \"projects\": [\"Odyssey Project\"],\n",
      "  \"locations\": [],\n",
      "  \"technologies\": [],\n",
      "  \"other\": []\n",
      "}\n",
      "```\n"
     ]
    }
   ],
   "source": [
    "# Run the LLM-based entity extraction\n",
    "print(\"Extracting entities with LLM...\")\n",
    "md_dir.apply(extract_entities_llm)\n",
    "\n",
    "# Display results\n",
    "for file in md_dir:\n",
    "    entities = file.metadata.get('extract_entities_llm', {})\n",
    "    print(f\"\\n{file.path.name}:\")\n",
    "    print(entities)"
   ]
  },
  {
   "cell_type": "code",
   "execution_count": 38,
   "metadata": {},
   "outputs": [
    {
     "name": "stdout",
     "output_type": "stream",
     "text": [
      "Detecting goals and projects with LLM...\n",
      "\n",
      "ideas.md:\n",
      "```json\n",
      "{\n",
      "  \"goals\": [\n",
      "    {\n",
      "      \"description\": \"Explore sustainable architecture concepts\",\n",
      "      \"category\": \"professional\",\n",
      "      \"timeframe\": \"long-term\",\n",
      "      \"confidence\": \"medium\"\n",
      "    },\n",
      "    {\n",
      "      \"description\": \"Develop the Green Building Project\",\n",
      "      \"category\": \"professional\",\n",
      "      \"timeframe\": \"long-term\",\n",
      "      \"confidence\": \"high\"\n",
      "    }\n",
      "  ],\n",
      "  \"projects\": [\n",
      "    {\n",
      "      \"name\": \"Green Building Project\",\n",
      "      \"description\": \"A project focused on innovative sustainable architecture solutions.\",\n",
      "      \"status\": \"planning\"\n",
      "    },\n",
      "    {\n",
      "      \"name\": \"Tokyo Design Initiative\",\n",
      "      \"description\": \"An initiative that may involve collaboration or research opportunities in design.\",\n",
      "      \"status\": \"mentioned\"\n",
      "    }\n",
      "  ]\n",
      "}\n",
      "```\n",
      "\n",
      "meeting1.md:\n",
      "```json\n",
      "{\n",
      "  \"goals\": [\n",
      "    {\n",
      "      \"description\": \"To progress the Odyssey Project and maintain interest from Microsoft Corp.\",\n",
      "      \"category\": \"professional\",\n",
      "      \"timeframe\": \"ongoing\",\n",
      "      \"confidence\": \"high\"\n",
      "    }\n",
      "  ],\n",
      "  \"projects\": [\n",
      "    {\n",
      "      \"name\": \"Odyssey Project\",\n",
      "      \"description\": \"A project that has gained interest from Microsoft Corp and is currently progressing.\",\n",
      "      \"status\": \"active\"\n",
      "    },\n",
      "    {\n",
      "      \"name\": \"Sierra Initiative\",\n",
      "      \"description\": \"A set of requirements that need to be reviewed as part of the next steps.\",\n",
      "      \"status\": \"planning\"\n",
      "    }\n",
      "  ]\n",
      "}\n",
      "```\n",
      "\n",
      "project_notes.md:\n",
      "```json\n",
      "{\n",
      "  \"goals\": [],\n",
      "  \"projects\": [\n",
      "    {\n",
      "      \"name\": \"Odyssey Project\",\n",
      "      \"description\": \"Collaboration with Jennifer Smith and Bob Johnson for the next phase. Potential partnership with Google Inc.\",\n",
      "      \"status\": \"active\"\n",
      "    }\n",
      "  ]\n",
      "}\n",
      "```\n"
     ]
    }
   ],
   "source": [
    "# Run goal detection\n",
    "print(\"Detecting goals and projects with LLM...\")\n",
    "md_dir.apply(detect_goals_llm)\n",
    "\n",
    "# Display results\n",
    "for file in md_dir:\n",
    "    goals_data = file.metadata.get('detect_goals_llm', \"\")\n",
    "    print(f\"\\n{file.path.name}:\")\n",
    "    print(goals_data)"
   ]
  },
  {
   "cell_type": "code",
   "execution_count": 43,
   "metadata": {},
   "outputs": [
    {
     "name": "stdout",
     "output_type": "stream",
     "text": [
      "\n",
      "==================================================\n",
      "BIOGRAPHER SUMMARY\n",
      "==================================================\n",
      "\n",
      "Hello! I’m Sierra, your AI assistant. Based on my initial analysis, it seems we have a strong focus on sustainable architecture through the Green Building Project and the Sierra Initiative, while also progressing with the Odyssey Project in collaboration with Microsoft Corp. I'm eager to hear your thoughts—does this align with your expectations?\n"
     ]
    }
   ],
   "source": [
    "# Run the biographer synthesis\n",
    "print(\"\\n\" + \"=\"*50)\n",
    "print(\"BIOGRAPHER SUMMARY\")\n",
    "print(\"=\"*50 + \"\\n\")\n",
    "\n",
    "summary = md_dir.synthesize(create_biographer_summary)\n",
    "print(summary)"
   ]
  },
  {
   "cell_type": "markdown",
   "metadata": {},
   "source": [
    "## Next Steps\n",
    "\n",
    "Now we have:\n",
    "1. ✅ Real LLM-based entity extraction\n",
    "2. ✅ Goal and project detection\n",
    "3. ✅ Biographer-style synthesis\n",
    "4. ✅ Agent prompts loaded from files\n",
    "\n",
    "To build out the full Sierra MVP, we could add:\n",
    "- More agent types (preferences, mood analysis)\n",
    "- Knowledge graph construction\n",
    "- Entity resolution/merging\n",
    "- Better file handling (images, PDFs, etc)"
   ]
  }
 ],
 "metadata": {
  "kernelspec": {
   "display_name": "Python 3 (ipykernel)",
   "language": "python",
   "name": "python3"
  },
  "language_info": {
   "codemirror_mode": {
    "name": "ipython",
    "version": 3
   },
   "file_extension": ".py",
   "mimetype": "text/x-python",
   "name": "python",
   "nbconvert_exporter": "python",
   "pygments_lexer": "ipython3",
   "version": "3.12.7"
  }
 },
 "nbformat": 4,
 "nbformat_minor": 4
}
