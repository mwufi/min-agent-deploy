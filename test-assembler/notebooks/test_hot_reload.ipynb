{
 "cells": [
  {
   "cell_type": "markdown",
   "metadata": {},
   "source": [
    "# Hot Reload Example with ara package\n",
    "\n",
    "This notebook demonstrates hot-reloading of the ara package."
   ]
  },
  {
   "cell_type": "code",
   "execution_count": 6,
   "metadata": {},
   "outputs": [
    {
     "name": "stdout",
     "output_type": "stream",
     "text": [
      "The autoreload extension is already loaded. To reload it, use:\n",
      "  %reload_ext autoreload\n"
     ]
    }
   ],
   "source": [
    "# Enable autoreload extension\n",
    "%load_ext autoreload\n",
    "%autoreload 2"
   ]
  },
  {
   "cell_type": "code",
   "execution_count": 7,
   "metadata": {},
   "outputs": [
    {
     "name": "stdout",
     "output_type": "stream",
     "text": [
      "Memory initialized!\n",
      "/Users/zenzen/theme-ara/minimal-agent/test-assembler/notebooks\n",
      "Testing it out! Hot reload is working!!! we have a new change!\n"
     ]
    }
   ],
   "source": [
    "# Import and test the Memory class\n",
    "from ara.memory import Memory\n",
    "\n",
    "# Create an instance - this will print \"Memory initialized!\"\n",
    "m = Memory()\n",
    "\n",
    "# Call the test method\n",
    "m.testitout()"
   ]
  },
  {
   "cell_type": "code",
   "execution_count": 8,
   "metadata": {},
   "outputs": [
    {
     "name": "stdout",
     "output_type": "stream",
     "text": [
      "Testing it out! Hot reload is working!!! we have a new change!\n"
     ]
    }
   ],
   "source": [
    "m.testitout()"
   ]
  },
  {
   "cell_type": "markdown",
   "metadata": {},
   "source": [
    "## Try Hot Reloading!\n",
    "\n",
    "1. Go to `packages/ara/ara/memory.py`\n",
    "2. Change the print messages or add new methods\n",
    "3. Save the file\n",
    "4. Re-run the cell above - you'll see your changes immediately!"
   ]
  }
 ],
 "metadata": {
  "kernelspec": {
   "display_name": "Python 3 (ipykernel)",
   "language": "python",
   "name": "python3"
  }
 },
 "nbformat": 4,
 "nbformat_minor": 4
}
